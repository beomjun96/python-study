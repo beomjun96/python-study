{
 "cells": [
  {
   "cell_type": "markdown",
   "metadata": {},
   "source": [
    "# 문제 1.\n",
    "- \"FizzBuzz\"문제 \n",
    " - 1에서 100까지의 숫자를 출력하되, \n",
    " - 만약 해당 숫자가 '3'으로 나누어지면 숫자 대신에 \"Fizz\"를 출력하고, \n",
    " - 만약 해당 숫자가 '5'로 나누어지면 숫자 대신에 \"Buzz\"를 출력하며, \n",
    " - 만약 해당 숫자가 '3'과 '5'로 모두 나누어지면 숫자 대신에 \"FizzBuzz\"를 출력\n",
    " - 입력 예1: 5\n",
    " - 출력 예1: \"Buzz\"\n",
    " - 입력 예2: 3\n",
    " - 출력 예2: \"Fizz\"\n",
    " - 입력 예3: 15\n",
    " - 출력 예3: \"FizzBuzz\" "
   ]
  },
  {
   "cell_type": "code",
   "execution_count": null,
   "metadata": {},
   "outputs": [],
   "source": []
  },
  {
   "cell_type": "code",
   "execution_count": null,
   "metadata": {},
   "outputs": [],
   "source": []
  },
  {
   "cell_type": "markdown",
   "metadata": {},
   "source": [
    "# 문제 2.\n",
    "- 나이를 입력받아 나이에 따라 지하철 교통요금 출력하는 프로그램을 만드시오.\n",
    "- 8세 미만의 어린이의 지하철 교통요금은 450원이다.\n",
    "- 8세 이상 19세 이하의 청소년 지하철 교통요금은 720원이다.\n",
    "- 20세 이상의 성인 지하철 교통요금은 1250원이다\n",
    "- 입력 예1: 2\n",
    "- 출력 예1: \"450원입니다.\"\n",
    "- 입력 예2: 19\n",
    "- 출력 예2: \"720원입니다.\"\n",
    "- 입력 예3: 82\n",
    "- 출력 예3: \"1250원입니다.\""
   ]
  },
  {
   "cell_type": "code",
   "execution_count": null,
   "metadata": {},
   "outputs": [],
   "source": []
  },
  {
   "cell_type": "code",
   "execution_count": null,
   "metadata": {},
   "outputs": [],
   "source": []
  },
  {
   "cell_type": "markdown",
   "metadata": {},
   "source": [
    "# 문제3.\n",
    "- 초를 입력 받아서 시간과 분으로 변환하는 프로그램을 작성하시오.\n",
    "- 입력 예: 3598\n",
    "- 출력 예: 59분 58초"
   ]
  },
  {
   "cell_type": "code",
   "execution_count": null,
   "metadata": {},
   "outputs": [],
   "source": []
  },
  {
   "cell_type": "code",
   "execution_count": null,
   "metadata": {},
   "outputs": [],
   "source": []
  },
  {
   "cell_type": "markdown",
   "metadata": {},
   "source": [
    "# 문제 4.\n",
    "- 섭씨를 입력받아서 화씨로 변환하는 프로그램을 작성하시오.\n",
    "- 수식:  F(화씨) = 9.0 / 5.0 * C(섭씨)+ 32\n",
    "- 입력 예: 5\n",
    "- 출력 예: 41.0"
   ]
  },
  {
   "cell_type": "code",
   "execution_count": null,
   "metadata": {},
   "outputs": [],
   "source": []
  },
  {
   "cell_type": "code",
   "execution_count": null,
   "metadata": {},
   "outputs": [],
   "source": []
  },
  {
   "cell_type": "markdown",
   "metadata": {},
   "source": [
    "# 문제 5.\n",
    "- 화씨를 입력받아서 섭씨로 변환하는 프로그램\n",
    "- 수식: C = (5 * F - 160) / 9.0\n",
    "- 입력 예: 5\n",
    "- 출력 예: -15.0"
   ]
  },
  {
   "cell_type": "code",
   "execution_count": null,
   "metadata": {},
   "outputs": [],
   "source": []
  },
  {
   "cell_type": "code",
   "execution_count": null,
   "metadata": {},
   "outputs": [],
   "source": []
  },
  {
   "cell_type": "markdown",
   "metadata": {},
   "source": [
    "# 문제 6.\n",
    "- 영어 알파벳 문자 하나를 입력받아 대소문자를 구분하는 코드를 작성하십시오.\n",
    "- 입력 예1: 'A'\n",
    "- 출력 예1: 대문자입니다.\n",
    "- 입력 예2: 'h'\n",
    "- 출력 예2: 소문자입니다.\n"
   ]
  },
  {
   "cell_type": "code",
   "execution_count": null,
   "metadata": {},
   "outputs": [],
   "source": []
  },
  {
   "cell_type": "code",
   "execution_count": null,
   "metadata": {},
   "outputs": [],
   "source": []
  },
  {
   "cell_type": "markdown",
   "metadata": {},
   "source": [
    "# 문제 7.\n",
    "- 가상의 두 사람(A, B)이 가위 바위 보 중 하나를 내서 승패를 가르는 가위 바위 보 게임을 작성하십시오.\n",
    "- 이 때 [\"가위\", \"바위\", \"보\"] 리스트를 활용합니다.\n",
    "- 입력 예: \"가위\" \"바위\"\n",
    "- 출력 예: \"B가 이겼습니다.\""
   ]
  },
  {
   "cell_type": "code",
   "execution_count": null,
   "metadata": {},
   "outputs": [],
   "source": []
  },
  {
   "cell_type": "code",
   "execution_count": null,
   "metadata": {},
   "outputs": [],
   "source": []
  },
  {
   "cell_type": "markdown",
   "metadata": {},
   "source": [
    "# 문제 8.\n",
    "- 다음의 결과와 같이 입력된 문자가 대문자일 경우 소문자로, 소문자일 경우 대문자로 변경하고,\n",
    "- 알파벳이 아닐 경우엔 그냥 출력하는 코드를 작성하십시오.\n",
    "- 입력 예1: A\n",
    "- 출력 예1: a\n",
    "- 입력 예2: 가나다\n",
    "- 출력 예2: 가나다\n"
   ]
  },
  {
   "cell_type": "code",
   "execution_count": null,
   "metadata": {},
   "outputs": [],
   "source": []
  },
  {
   "cell_type": "code",
   "execution_count": null,
   "metadata": {},
   "outputs": [],
   "source": []
  },
  {
   "cell_type": "code",
   "execution_count": null,
   "metadata": {},
   "outputs": [],
   "source": []
  }
 ],
 "metadata": {
  "kernelspec": {
   "display_name": "Python 3",
   "language": "python",
   "name": "python3"
  },
  "language_info": {
   "codemirror_mode": {
    "name": "ipython",
    "version": 3
   },
   "file_extension": ".py",
   "mimetype": "text/x-python",
   "name": "python",
   "nbconvert_exporter": "python",
   "pygments_lexer": "ipython3",
   "version": "3.6.6"
  }
 },
 "nbformat": 4,
 "nbformat_minor": 2
}
