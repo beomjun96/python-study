{
 "cells": [
  {
   "cell_type": "markdown",
   "metadata": {},
   "source": [
    "# 문제 1.(for)\n",
    "## for 문을 이용하여 1부터 입력받은 정수까지의 합을 구하여 출력하는 프로그램을 작성하시오.\n",
    "- 100 이하의 양의 정수만 입력된다. \n",
    "- 입력 예: 10\n",
    "- 출력 예: 55"
   ]
  },
  {
   "cell_type": "code",
   "execution_count": null,
   "metadata": {
    "collapsed": true
   },
   "outputs": [],
   "source": []
  },
  {
   "cell_type": "markdown",
   "metadata": {},
   "source": [
    "# 문제 2.\n",
    "## 정수를 계속 입력받다가 100 이상의 수가 입력이 되면 마지막 입력된 수를 포함하여 합계와 평균을 출력하는 프로그램을 작성하시오.\n",
    "\n",
    "- 평균은 반올림하여 소수 첫째자리까지 출력한다."
   ]
  },
  {
   "cell_type": "code",
   "execution_count": null,
   "metadata": {},
   "outputs": [],
   "source": []
  },
  {
   "cell_type": "markdown",
   "metadata": {},
   "source": [
    "# 문제 3.\n",
    "## 정수를 입력받아서 3의 배수가 아닌 경우에는 아무 작업도 하지 않고, 3의 배수인 경우에는 3으로 나눈몫을 출력하는 작업을 반복하다가 -1이 입력되면 종료하는 프로그램을 작성하시오.\n",
    "예시:\n",
    "- 5\n",
    "- 12 \n",
    "- <h2>4</h2>\n",
    "- 21\n",
    "- <h2>7</h2>\n",
    "- 100\n",
    "- -1"
   ]
  },
  {
   "cell_type": "code",
   "execution_count": null,
   "metadata": {},
   "outputs": [],
   "source": []
  },
  {
   "cell_type": "markdown",
   "metadata": {},
   "source": [
    "# 보너스(for)\n",
    "## 아래와 같은 모양으로 출력하는 프로그램을 작성하시오.\n",
    " - 사용자에게 숫자를 입력받아 입력 받은 높이 만큼의 삼각형을 출력하시오.\n",
    " - 입력 예: 5"
   ]
  },
  {
   "cell_type": "code",
   "execution_count": null,
   "metadata": {},
   "outputs": [],
   "source": [
    "    *\n",
    "   **\n",
    "  ***\n",
    " ****\n",
    "*****"
   ]
  },
  {
   "cell_type": "code",
   "execution_count": null,
   "metadata": {},
   "outputs": [],
   "source": []
  },
  {
   "cell_type": "code",
   "execution_count": null,
   "metadata": {},
   "outputs": [],
   "source": []
  },
  {
   "cell_type": "markdown",
   "metadata": {},
   "source": [
    "# 문제 4. \n",
    "## 아래와 같이 나라 이름을 출력하고 숫자를 입력받아 해당하는 나라의 수도를 출력하는 작업을 반복하다가 해당하는 번호 이외의 숫자가 입력되면 \"none\"라고 출력한 후 종료하는 프로그램을 작성하시오.\n",
    "\n",
    "* 각 나라의 수도 : \n",
    "- 대한민국 = 서울(Seoul)\n",
    "- 미국 = 워싱턴(Washington)\n",
    "- 일본 = 동경(Tokyo)\n",
    "- 중국 = 북경(Beijing)\n",
    "\n",
    "예시\n",
    "입력 예:\n",
    "1. Korea\n",
    "2. USA\n",
    "3. Japan\n",
    "4. China\n",
    "number? 1\n",
    "\n",
    "출력 예:\n",
    "Seoul\n",
    "\n",
    "1. Korea\n",
    "2. USA\n",
    "3. Japan\n",
    "4. China\n",
    "number? 5\n",
    "\n",
    "none"
   ]
  },
  {
   "cell_type": "code",
   "execution_count": null,
   "metadata": {},
   "outputs": [],
   "source": []
  },
  {
   "cell_type": "code",
   "execution_count": null,
   "metadata": {},
   "outputs": [],
   "source": []
  },
  {
   "cell_type": "markdown",
   "metadata": {},
   "source": [
    "# 문제 5.\n",
    "## 0 이상의 정수들이 공백으로 구분되어 반복적으로 주어진다. 0이 입력되면 반복문을 멈추고 그 전까지 입력받은 수들에 대하여 홀수의 개수와 짝수의 개수를 출력하는 프로그램을 작성하시오.\n",
    "- 입력 예: 9 7 10 5 33 65 0\n",
    "- 출력 예: \n",
    " odd : 5\n",
    " even : 1"
   ]
  },
  {
   "cell_type": "code",
   "execution_count": null,
   "metadata": {},
   "outputs": [],
   "source": []
  },
  {
   "cell_type": "code",
   "execution_count": null,
   "metadata": {},
   "outputs": [],
   "source": []
  },
  {
   "cell_type": "markdown",
   "metadata": {},
   "source": [
    "# 문제 6.\n",
    "## 삼각형의 밑변의 길이와 높이를 입력받아 넓이를 출력하고, \"Continue? \"에서 하나의 문자를 입력받아 그 문자가 'Y' 나 'y' 이면 작업을 반복하고 다른 문자이면 종료하는 프로그램을 작성하시오.\n",
    "\n",
    "- 넓이는 반올림하여 소수 첫째자리까지 출력한다.\n",
    "예시\n",
    "###### Base = 11\n",
    "###### Height = 5\n",
    "###### Triangle width = 27.5\n",
    "###### Continue? Y\n",
    "###### Base = 10\n",
    "###### Height = 10\n",
    "###### Triangle width = 50.0\n",
    "###### Continue? N"
   ]
  },
  {
   "cell_type": "code",
   "execution_count": null,
   "metadata": {},
   "outputs": [],
   "source": []
  },
  {
   "cell_type": "code",
   "execution_count": null,
   "metadata": {},
   "outputs": [],
   "source": []
  },
  {
   "cell_type": "markdown",
   "metadata": {},
   "source": [
    "# 문제 7.(for)\n",
    "## 100 이하의 두 개의 정수를 입력받아 작은 수부터 큰 수까지 차례대로 출력하는 프로그램을 작성하시오.\n",
    "- 입력 예: 5 10\n",
    "- 출력 예: 5 6 7 8 9 10"
   ]
  },
  {
   "cell_type": "code",
   "execution_count": null,
   "metadata": {},
   "outputs": [],
   "source": []
  },
  {
   "cell_type": "markdown",
   "metadata": {},
   "source": [
    "# 문제 8.(for)\n",
    "## 두 개의 정수를 입력받아 두 정수 사이(두 정수를 포함)에 3의 배수이거나 5의 배수인 수들의 합과 평균을 출력하는 프로그램을 작성하시오.\n",
    "- 평균은 반올림하여 소수 첫째자리까지 출력한다.\n",
    "- 입력 예: 10 15\n",
    "- 출력 예: \n",
    "sum : 37\n",
    "avg : 12.3"
   ]
  },
  {
   "cell_type": "code",
   "execution_count": null,
   "metadata": {},
   "outputs": [],
   "source": []
  },
  {
   "cell_type": "markdown",
   "metadata": {},
   "source": [
    "# 문제 9. (for)\n",
    "## 2부터 9까지의 수 중 2개를 입력받아 입력받은 수 사이의 구구단을 출력하는 프로그램을 작성하시오.\n",
    "- 단 반드시 먼저 입력된 수의 구구단부터 아래의 형식에 맞게 출력하여야 한다.\n",
    "- 구구단 사이의 공백은 3칸이다.\n",
    "- 입력 예: 5 3\n",
    "- 출력 예:\n",
    "5 * 1 =  5   4 * 1 =  4   3 * 1 =  3\n",
    "5 * 2 = 10   4 * 2 =  8   3 * 2 =  6\n",
    "5 * 3 = 15   4 * 3 = 12   3 * 3 =  9\n",
    "5 * 4 = 20   4 * 4 = 16   3 * 4 = 12\n",
    "5 * 5 = 25   4 * 5 = 20   3 * 5 = 15\n",
    "5 * 6 = 30   4 * 6 = 24   3 * 6 = 18\n",
    "5 * 7 = 35   4 * 7 = 28   3 * 7 = 21\n",
    "5 * 8 = 40   4 * 8 = 32   3 * 8 = 24\n",
    "5 * 9 = 45   4 * 9 = 36   3 * 9 = 27"
   ]
  },
  {
   "cell_type": "code",
   "execution_count": null,
   "metadata": {},
   "outputs": [],
   "source": []
  },
  {
   "cell_type": "code",
   "execution_count": null,
   "metadata": {},
   "outputs": [],
   "source": []
  },
  {
   "cell_type": "markdown",
   "metadata": {},
   "source": [
    "# 보너스2 (for)\n",
    "## 아래와 같은 모양으로 출력하는 프로그램을 작성하시오.\n",
    " - 사용자에게 숫자를 입력받아 입력 받은 높이 만큼의 삼각형을 출력하시오.\n",
    " - 입력 예: 5"
   ]
  },
  {
   "cell_type": "code",
   "execution_count": null,
   "metadata": {},
   "outputs": [],
   "source": [
    "*****\n",
    " ****\n",
    "  ***\n",
    "   **\n",
    "    *"
   ]
  },
  {
   "cell_type": "code",
   "execution_count": null,
   "metadata": {},
   "outputs": [],
   "source": []
  },
  {
   "cell_type": "code",
   "execution_count": null,
   "metadata": {},
   "outputs": [],
   "source": []
  },
  {
   "cell_type": "code",
   "execution_count": null,
   "metadata": {},
   "outputs": [],
   "source": []
  }
 ],
 "metadata": {
  "kernelspec": {
   "display_name": "Python 3",
   "language": "python",
   "name": "python3"
  },
  "language_info": {
   "codemirror_mode": {
    "name": "ipython",
    "version": 3
   },
   "file_extension": ".py",
   "mimetype": "text/x-python",
   "name": "python",
   "nbconvert_exporter": "python",
   "pygments_lexer": "ipython3",
   "version": "3.6.6"
  }
 },
 "nbformat": 4,
 "nbformat_minor": 2
}
