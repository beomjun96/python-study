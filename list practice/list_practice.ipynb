{
  "nbformat": 4,
  "nbformat_minor": 0,
  "metadata": {
    "kernelspec": {
      "display_name": "Python 3",
      "language": "python",
      "name": "python3"
    },
    "language_info": {
      "codemirror_mode": {
        "name": "ipython",
        "version": 3
      },
      "file_extension": ".py",
      "mimetype": "text/x-python",
      "name": "python",
      "nbconvert_exporter": "python",
      "pygments_lexer": "ipython3",
      "version": "3.6.6"
    },
    "colab": {
      "name": "list practice.ipynb",
      "provenance": []
    }
  },
  "cells": [
    {
      "cell_type": "markdown",
      "metadata": {
        "id": "1wpPNEYSy-Tu"
      },
      "source": [
        "# 문제 1.\n",
        "- 문자 10개를 저장할 수 있는 리스트를 만들고 10개의 문자를 입력받아 입력받은 문자를 이어서 출력하는 프로그램을 작성하시오.\n",
        "- 입력 예: A B C D E F G H I J\n",
        "- 출력 예: ABCDEFGHIJ"
      ]
    },
    {
      "cell_type": "code",
      "metadata": {
        "id": "HfryDyz2y-T4"
      },
      "source": [
        ""
      ],
      "execution_count": null,
      "outputs": []
    },
    {
      "cell_type": "code",
      "metadata": {
        "id": "PzuI1Ev1y-T5"
      },
      "source": [
        ""
      ],
      "execution_count": null,
      "outputs": []
    },
    {
      "cell_type": "markdown",
      "metadata": {
        "id": "Hib4sNRhy-T5"
      },
      "source": [
        "# 문제 2.\n",
        "- 10개의 문자를 입력받아서 첫 번째 네 번째 일곱 번째 입력받은 문자를 차례로 출력하는 프로그램을 작성하시오.\n",
        "- 입력 예: A B C D E F G H I J\n",
        "- 출력 예: A D G"
      ]
    },
    {
      "cell_type": "code",
      "metadata": {
        "id": "xeTVOHUty-T5"
      },
      "source": [
        ""
      ],
      "execution_count": null,
      "outputs": []
    },
    {
      "cell_type": "code",
      "metadata": {
        "id": "iYgnNyE0y-T6"
      },
      "source": [
        ""
      ],
      "execution_count": null,
      "outputs": []
    },
    {
      "cell_type": "markdown",
      "metadata": {
        "id": "5X6iMat3y-T6"
      },
      "source": [
        "# 문제 3.\n",
        "- 빈 리스트을 선언하고 정수를 차례로 입력받다가 0 이 입력되면 0 을 제외하고 그 때까지 입력된 정수를 가장 나중에 입력된 정수부터 차례대로 출력하는 프로그램을 작성하시오.\n",
        "- 입력 예: \n",
        "    * 3 \n",
        "    * 5\n",
        "    * 10 \n",
        "    * 55 \n",
        "    * 0\n",
        "- 출력 예: 55 10 5 3"
      ]
    },
    {
      "cell_type": "code",
      "metadata": {
        "id": "mSSG4ViDy-T6"
      },
      "source": [
        ""
      ],
      "execution_count": null,
      "outputs": []
    },
    {
      "cell_type": "code",
      "metadata": {
        "id": "lHPr9eiLy-T6"
      },
      "source": [
        ""
      ],
      "execution_count": null,
      "outputs": []
    },
    {
      "cell_type": "markdown",
      "metadata": {
        "id": "8ozcCzB_y-T7"
      },
      "source": [
        "# 문제 4.\n",
        "- 1반부터 6반까지의 평균점수를 저장한 후 두 반의 반 번호를 입력받아 두 반 평균점수의 합을 출력하는 프로그램을 작성하시오.\n",
        "- 반별 평균점수는 초기값으로 1반부터 차례로 85.6 79.5 83.1 80.0 78.2 75.0으로 초기화하고, \n",
        "- 출력은 소수 두 번째 자리에서 반올림하여 소수 첫째자리까지 한다.\n",
        "- 입력 예: 1 3 (1반 3반을 의미)\n",
        "- 출력 예: 168.7"
      ]
    },
    {
      "cell_type": "code",
      "metadata": {
        "id": "gs0QTuvky-T7"
      },
      "source": [
        ""
      ],
      "execution_count": null,
      "outputs": []
    },
    {
      "cell_type": "code",
      "metadata": {
        "id": "ljeHwH0Jy-T7"
      },
      "source": [
        ""
      ],
      "execution_count": null,
      "outputs": []
    },
    {
      "cell_type": "markdown",
      "metadata": {
        "id": "sxTOTGqwy-T7"
      },
      "source": [
        "# 문제 5.\n",
        "- 10개의 정수를 입력받아 그 중 가장 작은 수를 출력하는 프로그램을 작성하시오.\n",
        "- 입력 예: 5 10 8 55 6 31 12 24 61 2\n",
        "- 출력 예: 2"
      ]
    },
    {
      "cell_type": "code",
      "metadata": {
        "id": "Jr8hszFRy-T8"
      },
      "source": [
        ""
      ],
      "execution_count": null,
      "outputs": []
    },
    {
      "cell_type": "code",
      "metadata": {
        "id": "JtA2gUUAy-T8"
      },
      "source": [
        ""
      ],
      "execution_count": null,
      "outputs": []
    },
    {
      "cell_type": "markdown",
      "metadata": {
        "id": "t6408HTPy-T8"
      },
      "source": [
        "# 문제 6.\n",
        "- 10개의 정수를 입력받아 100 미만의 수 중 가장 큰 수와 100 이상의 수 중 가장 작은 수를 출력하는 프로그램을 작성하시오.\n",
        "- 입력 예: 88 123 659 15 443 1 99 313 105 48\n",
        "- 출력 예: 99 105"
      ]
    },
    {
      "cell_type": "code",
      "metadata": {
        "id": "6S1l0Ryjy-T8"
      },
      "source": [
        ""
      ],
      "execution_count": null,
      "outputs": []
    },
    {
      "cell_type": "code",
      "metadata": {
        "id": "osr-p5eLy-T8"
      },
      "source": [
        ""
      ],
      "execution_count": null,
      "outputs": []
    },
    {
      "cell_type": "markdown",
      "metadata": {
        "id": "YR-wuuO-y-T8"
      },
      "source": [
        "# 문제 7.\n",
        "- 10개의 정수를 입력받아 리스트에 저장한 후 짝수 번째 입력된 값의 합과 홀수 번째 입력된 값의 평균을 출력하는 프로그램을 작성하시오.\n",
        "- 평균은 반올림하여 소수첫째자리까지 출력한다.\n",
        "- 입력 예: 95 100 88 65 76 89 58 93 77 99\n",
        "- 출력 예: \n",
        "    * sum : 446\n",
        "    * avg : 78.8"
      ]
    },
    {
      "cell_type": "code",
      "metadata": {
        "id": "8_mRW1_dy-T9"
      },
      "source": [
        ""
      ],
      "execution_count": null,
      "outputs": []
    },
    {
      "cell_type": "code",
      "metadata": {
        "id": "KybuuXqly-T9"
      },
      "source": [
        ""
      ],
      "execution_count": null,
      "outputs": []
    },
    {
      "cell_type": "markdown",
      "metadata": {
        "id": "sYI9NSkPy-T9"
      },
      "source": [
        "# 문제 8.\n",
        "- 10개의 정수를 입력받아 리스트에 저장한 후 내림차순으로 정렬하여 출력하시오.\n",
        "- 입력 예: 95 100 88 65 76 89 58 93 77 99\n",
        "- 출력 예: 100 99 95 93 89 88 77 76 65 58"
      ]
    },
    {
      "cell_type": "code",
      "metadata": {
        "id": "4--CfOUNy-T9"
      },
      "source": [
        ""
      ],
      "execution_count": null,
      "outputs": []
    },
    {
      "cell_type": "code",
      "metadata": {
        "id": "pYpzYwtsy-T9"
      },
      "source": [
        ""
      ],
      "execution_count": null,
      "outputs": []
    }
  ]
}